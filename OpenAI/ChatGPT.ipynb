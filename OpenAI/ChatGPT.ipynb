{
 "cells": [
  {
   "cell_type": "markdown",
   "metadata": {},
   "source": [
    "# ChatGPT\n",
    "\n",
    "[ChatGPT](https://openai.com/blog/chatgpt) is one of several sophisticated AI models built by [OpenAI](https://openai.com/), a San Francisco-based company whose mission is to \"ensure that artificial general intelligence benefits all of humanity.\" ChatGPT is a Large Language Model (LLM) built on GPT-3.5, which boasts 175 billion parameters and ranks as the largest neural network ever built. ChatGPT can generate human-like prose by responding to instructions written in the [Chat Markup Language](https://learn.microsoft.com/en-us/azure/cognitive-services/openai/how-to/chatgpt), or ChatML for short. Here are just a few examples demonstrating how to leverage ChatGPT using its REST API.\n",
    "\n",
    "Be sure to paste your OpenAI API key into the next cell in order to run the examples. If you don't already have an OpenAI account and an API key to go with it, go to https://platform.openai.com/signup and create an account. Then go to the API Keys page, generate an API key, and save it where you can easily retrieve it later. OpenAI grants you a certain amount of free usage each month, so you don't have to create a paid account in order to get an API key. Once generated, an OpenAI API key can't be retrieved by returning to the OpenAI Web site. Be sure to save it in a secure place so you can retrieve it when needed. If you lose an API key, your only recourse is to generate a new one."
   ]
  },
  {
   "cell_type": "code",
   "execution_count": 1,
   "metadata": {},
   "outputs": [],
   "source": [
    "import openai\n",
    "\n",
    "openai.api_key = 'OPENAI_KEY'"
   ]
  },
  {
   "cell_type": "markdown",
   "metadata": {},
   "source": [
    "Ask ChatGPT to write a paragraph of text describing molecular biology in the style of Dr. Seuss. Run this cell several times and you'll get a different result each time. Set `temperature` to 0.0, however, and the results will be the same most of the time:"
   ]
  },
  {
   "cell_type": "code",
   "execution_count": 2,
   "metadata": {},
   "outputs": [
    {
     "name": "stdout",
     "output_type": "stream",
     "text": [
      "Oh, let me tell you of a science so grand,\n",
      "\n",
      "A world of molecules we can understand!\n",
      "\n",
      "It's called molecular biology, don't you know,\n",
      "\n",
      "And it's here to help us all, high and low.\n",
      "\n",
      "At the heart of it all, we find DNA,\n",
      "\n",
      "A code of life that speaks in its own way.\n",
      "\n",
      "There are A's and T's and C's and G's,\n",
      "\n",
      "A language that every molecule sees.\n",
      "\n",
      "The proteins they make are a wonder to see,\n",
      "\n",
      "They fold and twist just like a big, bouncy trampoline.\n",
      "\n",
      "They can help us fight disease and learn all sorts of things,\n",
      "\n",
      "All thanks to the power of molecular biology's rings!\n",
      "\n",
      "So let's celebrate this science, so vital and bright,\n",
      "\n",
      "Molecular biology is a true delight!\n"
     ]
    }
   ],
   "source": [
    "messages = [{\n",
    "    'role': 'user',\n",
    "    'content': 'Describe molecular biology in the style of Dr. Seuss'\n",
    "}]\n",
    "\n",
    "response = openai.ChatCompletion.create(\n",
    "    model='gpt-3.5-turbo',\n",
    "    messages=messages,\n",
    "    max_tokens=500\n",
    ")\n",
    "\n",
    "print(response.choices[0].message.content)"
   ]
  },
  {
   "cell_type": "markdown",
   "metadata": {},
   "source": [
    "ChatGPT can translate text between dozens of languages.Let's translate \"Best food ever!\" from English to French. It's a good idea to set `temperature` to 0.0 here since you generally want translations to be accurate and repeatable rather than creative:"
   ]
  },
  {
   "cell_type": "code",
   "execution_count": 3,
   "metadata": {},
   "outputs": [
    {
     "name": "stdout",
     "output_type": "stream",
     "text": [
      "Meilleure nourriture jamais!\n"
     ]
    }
   ],
   "source": [
    "messages = [{\n",
    "    'role': 'user',\n",
    "    'content': 'Translate the following text from English to French: Best food ever!'\n",
    "}]\n",
    "\n",
    "response = openai.ChatCompletion.create(\n",
    "    model='gpt-3.5-turbo',\n",
    "    messages=messages,\n",
    "    temperature=0.0\n",
    ")\n",
    "\n",
    "print(response.choices[0].message.content)"
   ]
  },
  {
   "cell_type": "markdown",
   "metadata": {},
   "source": [
    "Perhaps surprisingly, it even understands Klingon. Let's see how \"Best food ever!\" translates to Klingon:"
   ]
  },
  {
   "cell_type": "code",
   "execution_count": 4,
   "metadata": {},
   "outputs": [
    {
     "name": "stdout",
     "output_type": "stream",
     "text": [
      "Qe'Hom yIqem!\n"
     ]
    }
   ],
   "source": [
    "messages = [{\n",
    "    'role': 'user',\n",
    "    'content': 'Translate the following text from English to Klingon: Best food ever!'\n",
    "}]\n",
    "\n",
    "response = openai.ChatCompletion.create(\n",
    "    model='gpt-3.5-turbo',\n",
    "    messages=messages,\n",
    "    temperature=0.0\n",
    ")\n",
    "\n",
    "print(response.choices[0].message.content)"
   ]
  },
  {
   "cell_type": "markdown",
   "metadata": {},
   "source": [
    "One of the practical uses for ChatGPT is editing existing text to make it more compelling. Here's an example that generates a marketing blurb for a seminar on AI:"
   ]
  },
  {
   "cell_type": "code",
   "execution_count": 5,
   "metadata": {},
   "outputs": [
    {
     "name": "stdout",
     "output_type": "stream",
     "text": [
      "Are you curious to unravel the mysteries of AI and how it's changing the game for businesses around the globe? Discover the power of this groundbreaking technology and how it can help you gain a competitive advantage in the marketplace. From machine learning to predictive analytics, unlock the secrets of AI and make it work for you. Sign up now to start your journey into the exciting world of AI!\n"
     ]
    }
   ],
   "source": [
    "messages = [{\n",
    "    'role': 'user',\n",
    "    'content': 'Make the following marketing text more engaging: ' \\\n",
    "               'Learn how AI works and how it\\'s used in business'\n",
    "}]\n",
    "\n",
    "response = openai.ChatCompletion.create(\n",
    "    model='gpt-3.5-turbo',\n",
    "    messages=messages,\n",
    "    max_tokens=500\n",
    ")\n",
    "\n",
    "print(response.choices[0].message.content)"
   ]
  },
  {
   "cell_type": "markdown",
   "metadata": {},
   "source": [
    "ChatGPT can perform a variety of NLP tasks without additional training. Here it is, for example, performing sentiment analysis:"
   ]
  },
  {
   "cell_type": "code",
   "execution_count": 6,
   "metadata": {},
   "outputs": [
    {
     "name": "stdout",
     "output_type": "stream",
     "text": [
      "positive\n"
     ]
    }
   ],
   "source": [
    "messages = [{\n",
    "    'role': 'user',\n",
    "    'content': 'Indicate whether the following Tweet\\'s sentiment is positive or ' \\\n",
    "               'negative: Great food and excellent service'\n",
    "}]\n",
    "\n",
    "response = openai.ChatCompletion.create(\n",
    "    model='gpt-3.5-turbo',\n",
    "    messages=messages\n",
    ")\n",
    "\n",
    "print(response.choices[0].message.content)"
   ]
  },
  {
   "cell_type": "code",
   "execution_count": 7,
   "metadata": {},
   "outputs": [
    {
     "name": "stdout",
     "output_type": "stream",
     "text": [
      "negative\n"
     ]
    }
   ],
   "source": [
    "messages = [{\n",
    "    'role': 'user',\n",
    "    'content': 'Indicate whether the following Tweet\\'s sentiment is positive or ' \\\n",
    "               'negative: Long lines and poor customer service'\n",
    "}]\n",
    "\n",
    "response = openai.ChatCompletion.create(\n",
    "    model='gpt-3.5-turbo',\n",
    "    messages=messages\n",
    ")\n",
    "\n",
    "print(response.choices[0].message.content)"
   ]
  },
  {
   "cell_type": "markdown",
   "metadata": {},
   "source": [
    "Sentiment analysis is a text-classification task. ChatGPT can classify text in other ways, too. The next two examples demonstrate how it could be used as the basis for a spam filter:"
   ]
  },
  {
   "cell_type": "code",
   "execution_count": 8,
   "metadata": {},
   "outputs": [
    {
     "name": "stdout",
     "output_type": "stream",
     "text": [
      "Not spam.\n"
     ]
    }
   ],
   "source": [
    "messages = [{\n",
    "    'role': 'user',\n",
    "    'content': 'Indicate whether the following email is spam or not spam: ' \\\n",
    "               'Please plan to attend the code review at 2:00 p.m. this afternoon'\n",
    "}]\n",
    "\n",
    "response = openai.ChatCompletion.create(\n",
    "    model='gpt-3.5-turbo',\n",
    "    messages=messages\n",
    ")\n",
    "\n",
    "print(response.choices[0].message.content)"
   ]
  },
  {
   "cell_type": "code",
   "execution_count": 9,
   "metadata": {},
   "outputs": [
    {
     "name": "stdout",
     "output_type": "stream",
     "text": [
      "spam\n"
     ]
    }
   ],
   "source": [
    "messages = [{\n",
    "    'role': 'user',\n",
    "    'content': 'Indicate whether the following email is spam or not spam: ' \\\n",
    "               'Order prescription meds online and save $$$'\n",
    "}]\n",
    "\n",
    "response = openai.ChatCompletion.create(\n",
    "    model='gpt-3.5-turbo',\n",
    "    messages=messages\n",
    ")\n",
    "\n",
    "print(response.choices[0].message.content)"
   ]
  },
  {
   "cell_type": "markdown",
   "metadata": {},
   "source": [
    "ChatGPT was trained on a massive body of data that includes [Common Crawl](https://commoncrawl.org/), a pair of book databases known as Books1 and Books2, [WebText2](https://www.eleuther.ai/projects/owt2/), and [Wikipedia](https://www.wikipedia.org/), so it's knowledge is vast. It can generally answer questions as long as the answers are somewhere on the Internet. Its answers aren't always correct because (surprise!) there's a lot of misinformation on the Internet. Here's a question that's pertinent to this notebook:"
   ]
  },
  {
   "cell_type": "code",
   "execution_count": 10,
   "metadata": {},
   "outputs": [
    {
     "name": "stdout",
     "output_type": "stream",
     "text": [
      "The deep learning transformer was introduced in the academic paper titled \"Attention Is All You Need\" by Vaswani et al. This paper was presented at the 31st Conference on Neural Information Processing Systems (NIPS 2017) and can be found on the official NIPS website or on arXiv.\n"
     ]
    }
   ],
   "source": [
    "messages = [{\n",
    "    'role': 'user',\n",
    "    'content': 'In which academic paper was the deep learning transformer ' \\\n",
    "               'introduced, and where can I find it?'\n",
    "}]\n",
    "\n",
    "response = openai.ChatCompletion.create(\n",
    "    model='gpt-3.5-turbo',\n",
    "    messages=messages\n",
    ")\n",
    "\n",
    "print(response.choices[0].message.content)"
   ]
  },
  {
   "cell_type": "markdown",
   "metadata": {},
   "source": [
    "ChatGPT can also answer questions from context that you provide. Here's an example that involves my hobby: building and flying large radio-control (RC) jets. Observe that ChatGPT seems to have the ability to count:"
   ]
  },
  {
   "cell_type": "code",
   "execution_count": 11,
   "metadata": {},
   "outputs": [
    {
     "name": "stdout",
     "output_type": "stream",
     "text": [
      "Jeff has built four jets.\n"
     ]
    }
   ],
   "source": [
    "question = 'How many jets has Jeff built?'\n",
    "\n",
    "context = 'Jeff loves to build and fly model jets. He built his first ' \\\n",
    "          'jet, a BVM BobCat, in 2007. After that, he built a BVM Bandit, ' \\\n",
    "          'a Skymaster F-16, and a Skymaster F-5. The latter two are 1/6th' \\\n",
    "          'scale models of actual fighter jets. Top speed is around 200 MPH.'\n",
    "\n",
    "content = f'Answer the following question using the provided context, and if the ' \\\n",
    "          f'answer is not contained within the context, say \"I don\\'t know.\"\\n\\n' \\\n",
    "          f'Context: {context}\\n\\n' \\\n",
    "          f'Q: {question}\\n\\n' \\\n",
    "          f'A: '\n",
    "\n",
    "messages = [{ 'role': 'user', 'content': content }]\n",
    "    \n",
    "response = openai.ChatCompletion.create(\n",
    "    model='gpt-3.5-turbo',\n",
    "    messages=messages,\n",
    "    max_tokens=500\n",
    ")\n",
    "\n",
    "print(response.choices[0].message.content)"
   ]
  },
  {
   "cell_type": "markdown",
   "metadata": {},
   "source": [
    "It's fun to play with ChatGPT to try to discover things it *can't* do. Does it understand what's meant by \"Reverse the order of the characters in a string?\" There's an easy way to find out:"
   ]
  },
  {
   "cell_type": "code",
   "execution_count": 12,
   "metadata": {},
   "outputs": [
    {
     "name": "stdout",
     "output_type": "stream",
     "text": [
      "\"ffeJ si eman yM\"\n"
     ]
    }
   ],
   "source": [
    "messages = [{\n",
    "    'role': 'user',\n",
    "    'content': 'Reverse the order of the characters in the string \"My name is Jeff\"'\n",
    "}]\n",
    "\n",
    "response = openai.ChatCompletion.create(\n",
    "    model='gpt-3.5-turbo',\n",
    "    messages=messages\n",
    ")\n",
    "\n",
    "print(response.choices[0].message.content)"
   ]
  },
  {
   "cell_type": "markdown",
   "metadata": {},
   "source": [
    "Since you're charged by the token for calls to ChatGPT, it's often useful to know how many tokens a string comprises. It's easy enough to tokenize a string with OpenAI's [tiktoken](https://pypi.org/project/tiktoken/0.3.0/) library and count the tokens. Here's an example:"
   ]
  },
  {
   "cell_type": "code",
   "execution_count": 13,
   "metadata": {},
   "outputs": [
    {
     "name": "stdout",
     "output_type": "stream",
     "text": [
      "78 tokens\n"
     ]
    }
   ],
   "source": [
    "import tiktoken\n",
    "\n",
    "text = 'Jeff loves to build and fly model jets. He built his first ' \\\n",
    "       'jet, a BVM BobCat, in 2007. After that, he built a BVM Bandit, ' \\\n",
    "       'a Skymaster F-16, and a Skymaster F-5. The latter two are 1/6th' \\\n",
    "       'scale models of actual fighter jets. Top speed is around 200 MPH.'\n",
    "\n",
    "encoding = tiktoken.encoding_for_model('gpt-3.5-turbo')\n",
    "num_tokens = len(encoding.encode(text))\n",
    "print(f'{num_tokens} tokens')"
   ]
  },
  {
   "cell_type": "markdown",
   "metadata": {},
   "source": [
    "These are but a few examples of the NLP feats ChatGPT can perform. Here's a closing paragraph written by ChatGPT itself:\n",
    "\n",
    "\"In conclusion, ChatGPT is an impressive AI model that showcases the remarkable potential of advanced language models. Its ability to generate human-like responses through ChatML provides an exciting opportunity for developers, researchers, and businesses to harness the power of AI to improve various aspects of their work. As OpenAI continues to push the boundaries of AI research, ChatGPT represents a significant step forward in the development of artificial general intelligence. With its impressive capabilities and innovative technology, ChatGPT is sure to play a crucial role in shaping the future of AI and its impact on humanity.\""
   ]
  }
 ],
 "metadata": {
  "kernelspec": {
   "display_name": "Python 3",
   "language": "python",
   "name": "python3"
  },
  "language_info": {
   "codemirror_mode": {
    "name": "ipython",
    "version": 3
   },
   "file_extension": ".py",
   "mimetype": "text/x-python",
   "name": "python",
   "nbconvert_exporter": "python",
   "pygments_lexer": "ipython3",
   "version": "3.8.5"
  }
 },
 "nbformat": 4,
 "nbformat_minor": 4
}
