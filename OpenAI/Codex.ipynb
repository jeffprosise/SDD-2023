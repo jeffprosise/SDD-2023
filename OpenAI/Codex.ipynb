{
 "cells": [
  {
   "cell_type": "markdown",
   "metadata": {},
   "source": [
    "# Code generation with ChatGPT\n",
    "\n",
    "In addition to being trained on massive volumes of text comprising approximately 500 billion words, ChatGPT was trained with billions of lines of code. It can generate code, comment code, find bugs in code, and more, and it supports dozens of programming languages. Let's use a few examples to see what it's capable of.\n",
    "\n",
    "As before, paste your OpenAI API key into the next cell in order to run the examples. If you don't already have an OpenAI account and an API key to go with it, go to https://platform.openai.com/signup and create an account. Then go to the API Keys page, generate an API key, and save it where you can easily retrieve it later. OpenAI grants you a certain amount of free usage each month, so you don't have to create a paid account in order to get an API key. Once generated, an OpenAI API key can't be retrieved by returning to the OpenAI Web site. Be sure to save it in a secure place so you can retrieve it when needed. If you lose an API key, your only recourse is to generate a new one."
   ]
  },
  {
   "cell_type": "code",
   "execution_count": 1,
   "metadata": {},
   "outputs": [],
   "source": [
    "import openai\n",
    "\n",
    "openai.api_key = 'OPENAI_KEY'"
   ]
  },
  {
   "cell_type": "markdown",
   "metadata": {},
   "source": [
    "Use ChatGPT to implement a bubble sort in Python:"
   ]
  },
  {
   "cell_type": "code",
   "execution_count": 2,
   "metadata": {},
   "outputs": [
    {
     "name": "stdout",
     "output_type": "stream",
     "text": [
      "\n",
      "\n",
      "Here's the code for a Python function that performs Bubble Sort on an input array:\n",
      "\n",
      "```python\n",
      "def bubble_sort(arr):\n",
      "    n = len(arr)\n",
      "\n",
      "    # loop through array to compare adjacent elements\n",
      "    for i in range(n):\n",
      "        for j in range(n-i-1):\n",
      "            # swap adjacent elements if they're in the wrong order\n",
      "            if arr[j] > arr[j+1]:\n",
      "                arr[j], arr[j+1] = arr[j+1], arr[j]\n",
      "\n",
      "    return arr\n",
      "```\n",
      "\n",
      "The function takes an input array `arr`. It then loops through the array `n` times, checking and swapping adjacent elements as necessary in each iteration, until the array is sorted. The sorted array is then returned.\n",
      "\n",
      "To use this function, simply call it with an input array as follows:\n",
      "\n",
      "```python\n",
      "input_arr = [4, 1, 7, 3, 8, 2]\n",
      "sorted_arr = bubble_sort(input_arr)\n",
      "print(sorted_arr) # output: [1, 2, 3, 4, 7, 8]\n",
      "```\n",
      "\n",
      "In this example, the function takes the input array `[4, 1, 7, 3, 8, 2]`, bubble sorts it, and returns the sorted array `[1, 2, 3, 4, 7, 8]`.\n"
     ]
    }
   ],
   "source": [
    "content = 'Create a Python function that accepts an array of numbers as ' \\\n",
    "          'input, bubble sorts the numbers, and returns a sorted array'\n",
    "\n",
    "messages = [{ 'role': 'user', 'content' : content }]\n",
    "\n",
    "response = openai.ChatCompletion.create(\n",
    "    model='gpt-3.5-turbo',\n",
    "    messages=messages,\n",
    "    max_tokens=512\n",
    ")\n",
    "\n",
    "print(response.choices[0].message.content)"
   ]
  },
  {
   "cell_type": "markdown",
   "metadata": {},
   "source": [
    "Ask ChatGPT to explain the code that it just generated:"
   ]
  },
  {
   "cell_type": "code",
   "execution_count": 3,
   "metadata": {},
   "outputs": [
    {
     "name": "stdout",
     "output_type": "stream",
     "text": [
      "\n",
      "\n",
      "This code implements the bubble sort algorithm for sorting an input array, arr. In bubble sort, adjacent elements of the array are compared and swapped if they are in the wrong order, repeatedly iterating over the array until it is completely sorted. \n",
      "\n",
      "The code first finds the length of arr and assigns it to the variable n. It then uses two nested loops to iterate over all pairs of adjacent elements in the array, swapping them if they are in the wrong order. Specifically, for each value of i between 0 and n-1, the inner loop sets j to each integer value between 0 and n-i-2. If arr[j] is greater than arr[j+1], then the two elements are swapped using a tuple assignment statement. \n",
      "\n",
      "After the loops have completed, the sorted array is returned.\n"
     ]
    }
   ],
   "source": [
    "content = 'Explain what the following code does:\\n' \\\n",
    "          'def bubble_sort(arr):\\n' \\\n",
    "          '    n = len(arr)\\n' \\\n",
    "          '    for i in range(n):\\n' \\\n",
    "          '        for j in range(0, n-i-1):\\n' \\\n",
    "          '            if arr[j] > arr[j+1]:\\n' \\\n",
    "          '                arr[j], arr[j+1] = arr[j+1], arr[j]\\n' \\\n",
    "          '    return arr'\n",
    "\n",
    "messages = [{ 'role': 'user', 'content' : content }]\n",
    "\n",
    "response = openai.ChatCompletion.create(\n",
    "    model='gpt-3.5-turbo',\n",
    "    messages=messages,\n",
    "    max_tokens=512\n",
    ")\n",
    "\n",
    "print(response.choices[0].message.content)"
   ]
  },
  {
   "cell_type": "markdown",
   "metadata": {},
   "source": [
    "Use ChatGPT to convert a Python function to FORTRAN:"
   ]
  },
  {
   "cell_type": "code",
   "execution_count": 4,
   "metadata": {},
   "outputs": [
    {
     "name": "stdout",
     "output_type": "stream",
     "text": [
      "\n",
      "\n",
      "subroutine bubble_sort(arr, n)\n",
      "  integer :: i, j, n\n",
      "  real, dimension(n) :: arr\n",
      "  \n",
      "  do i = 1, n\n",
      "    do j = 1, n-i\n",
      "      if (arr(j) > arr(j+1)) then\n",
      "        temp = arr(j)\n",
      "        arr(j) = arr(j+1)\n",
      "        arr(j+1) = temp\n",
      "      end if\n",
      "    end do\n",
      "  end do\n",
      "  \n",
      "end subroutine bubble_sort\n"
     ]
    }
   ],
   "source": [
    "content = 'Convert the following Python function into a FORTRAN function:\\n' \\\n",
    "          'def bubble_sort(arr):\\n' \\\n",
    "          '    n = len(arr)\\n' \\\n",
    "          '    for i in range(n):\\n' \\\n",
    "          '        for j in range(0, n-i-1):\\n' \\\n",
    "          '            if arr[j] > arr[j+1]:\\n' \\\n",
    "          '                arr[j], arr[j+1] = arr[j+1], arr[j]\\n' \\\n",
    "          '    return arr'\n",
    "\n",
    "\n",
    "messages = [{ 'role': 'user', 'content' : content }]\n",
    "\n",
    "response = openai.ChatCompletion.create(\n",
    "    model='gpt-3.5-turbo',\n",
    "    messages=messages,\n",
    "    max_tokens=512\n",
    ")\n",
    "\n",
    "print(response.choices[0].message.content)"
   ]
  },
  {
   "cell_type": "markdown",
   "metadata": {},
   "source": [
    "Use ChatGPT to add comments to a block of code:"
   ]
  },
  {
   "cell_type": "code",
   "execution_count": 5,
   "metadata": {},
   "outputs": [
    {
     "name": "stdout",
     "output_type": "stream",
     "text": [
      "\n",
      "\n",
      "# This function implements the bubble sort algorithm to sort an array in ascending order.\n",
      "# It takes an array as input and returns the sorted array.\n",
      "\n",
      "def bubble_sort(arr):\n",
      "    n = len(arr)  # get the length of the array\n",
      "    for i in range(n):  # iterate through the array\n",
      "        for j in range(0, n-i-1):  # iterate through the unsorted part of the array\n",
      "            if arr[j] > arr[j+1]:  # if the current element is greater than the next element\n",
      "                arr[j], arr[j+1] = arr[j+1], arr[j]  # swap the elements\n",
      "    return arr  # return the sorted array\n"
     ]
    }
   ],
   "source": [
    "content = 'Add comments to the following code:\\n' \\\n",
    "          'def bubble_sort(arr):\\n' \\\n",
    "          '    n = len(arr)\\n' \\\n",
    "          '    for i in range(n):\\n' \\\n",
    "          '        for j in range(0, n-i-1):\\n' \\\n",
    "          '            if arr[j] > arr[j+1]:\\n' \\\n",
    "          '                arr[j], arr[j+1] = arr[j+1], arr[j]\\n' \\\n",
    "          '    return arr'\n",
    "\n",
    "\n",
    "messages = [{ 'role': 'user', 'content' : content }]\n",
    "\n",
    "response = openai.ChatCompletion.create(\n",
    "    model='gpt-3.5-turbo',\n",
    "    messages=messages,\n",
    "    temperature=0.0,\n",
    "    max_tokens=512\n",
    ")\n",
    "\n",
    "print(response.choices[0].message.content)"
   ]
  },
  {
   "cell_type": "markdown",
   "metadata": {},
   "source": [
    "ChatGPT can add comments to uncommented source code, too. To demonstrate, add comments to **app.py** and save the commented file as **app-commented.py**:"
   ]
  },
  {
   "cell_type": "code",
   "execution_count": 6,
   "metadata": {},
   "outputs": [
    {
     "name": "stdout",
     "output_type": "stream",
     "text": [
      "Done!\n"
     ]
    }
   ],
   "source": [
    "with open('Data/app.py', 'r') as input_file:\n",
    "    lines = input_file.read()\n",
    "    content = 'Add comments to the following code:\\n' + lines\n",
    "\n",
    "    messages = [{ 'role': 'user', 'content' : content }]\n",
    "\n",
    "    response = openai.ChatCompletion.create(\n",
    "        model='gpt-3.5-turbo',\n",
    "        messages=messages,\n",
    "        max_tokens=2048\n",
    "    )\n",
    "\n",
    "    with open('Data/app-commented.py', 'w') as output_file:\n",
    "        output_file.write(response.choices[0].message.content)\n",
    "        print('Done!')"
   ]
  },
  {
   "cell_type": "markdown",
   "metadata": {},
   "source": [
    "It works with C# source code as well:"
   ]
  },
  {
   "cell_type": "code",
   "execution_count": 7,
   "metadata": {},
   "outputs": [
    {
     "name": "stdout",
     "output_type": "stream",
     "text": [
      "Done!\n"
     ]
    }
   ],
   "source": [
    "with open('Data/Program.cs', 'r') as input_file:\n",
    "    lines = input_file.read()\n",
    "    content = 'Add comments to the following code:\\n' + lines\n",
    "\n",
    "    messages = [{ 'role': 'user', 'content' : content }]\n",
    "\n",
    "    response = openai.ChatCompletion.create(\n",
    "        model='gpt-3.5-turbo',\n",
    "        messages=messages,\n",
    "        max_tokens=2048\n",
    "    )\n",
    "\n",
    "    with open('Data/Program-commented.cs', 'w') as output_file:\n",
    "        output_file.write(response.choices[0].message.content)\n",
    "        print('Done!')"
   ]
  },
  {
   "cell_type": "markdown",
   "metadata": {},
   "source": [
    "Speaking of C#: Can ChatGPT rewrite a block of C# code that manually iterates over a `List` to use LINQ?"
   ]
  },
  {
   "cell_type": "code",
   "execution_count": 13,
   "metadata": {},
   "outputs": [
    {
     "name": "stdout",
     "output_type": "stream",
     "text": [
      "\n",
      "\n",
      "var picks = stocks.Where(stock => stock.Close > stock.Open).ToList();\n",
      "picks.ForEach(pick => Console.WriteLine($\"{pick.Symbol}: {pick.Open:c} -> {pick.Close:c}\"));\n"
     ]
    }
   ],
   "source": [
    "content = 'Rewrite the following C# code to use LINQ:\\n' \\\n",
    "          'var picks = new List<DailyStock>();\\n' \\\n",
    "          'foreach (var stock in stocks)\\n' \\\n",
    "          '{\\n' \\\n",
    "          '    if (stock.Close > stock.Open)\\n' \\\n",
    "          '    {\\n' \\\n",
    "          '        picks.Add(stock);\\n' \\\n",
    "          '    }\\n' \\\n",
    "          '}\\n' \\\n",
    "          'foreach(var pick in picks)\\n' \\\n",
    "          '{\\n' \\\n",
    "          '    Console.WriteLine($\"{pick.Symbol}: {pick.Open:c} -> {pick.Close:c}\");\\n' \\\n",
    "          '}\\n'\n",
    "\n",
    "messages = [{ 'role': 'user', 'content' : content }]\n",
    "\n",
    "response = openai.ChatCompletion.create(\n",
    "    model='gpt-3.5-turbo',\n",
    "    messages=messages,\n",
    "    max_tokens=512\n",
    ")\n",
    "\n",
    "print(response.choices[0].message.content)"
   ]
  },
  {
   "cell_type": "markdown",
   "metadata": {},
   "source": [
    "ChatGPT is cognizant of popular programming libraries and frameworks, too. Here, it relies on one of them to generate a function that performs sentiment analysis:"
   ]
  },
  {
   "cell_type": "code",
   "execution_count": 9,
   "metadata": {},
   "outputs": [
    {
     "name": "stdout",
     "output_type": "stream",
     "text": [
      "\n",
      "\n",
      "As an AI language model, I can provide you with a sample code for sentiment analysis using the TextBlob library in Python. Here's the code:\n",
      "\n",
      "```\n",
      "from textblob import TextBlob\n",
      "\n",
      "def analyze_sentiment(text):\n",
      "    \"\"\"\n",
      "    This function accepts a string as input and analyzes the sentiment of the text.\n",
      "    It returns a value from 0.0 to 1.0, where 0.0 means the sentiment is very negative\n",
      "    and 1.0 means it is very positive.\n",
      "    \"\"\"\n",
      "    blob = TextBlob(text)\n",
      "    sentiment = blob.sentiment.polarity\n",
      "    normalized_sentiment = (sentiment + 1) / 2  # Normalize sentiment to a range of 0.0 to 1.0\n",
      "    return normalized_sentiment\n",
      "```\n",
      "\n",
      "You can use this function by passing a string as input, like this:\n",
      "\n",
      "```\n",
      "text = \"I love this product! It's amazing!\"\n",
      "sentiment = analyze_sentiment(text)\n",
      "print(sentiment)  # Output: 0.95\n",
      "```\n",
      "\n",
      "In this example, the sentiment of the text is very positive, so the function returns a value close to 1.0.\n"
     ]
    }
   ],
   "source": [
    "content = 'Generate a Python function that accepts a string as input and ' \\\n",
    "          'analyzes the string for sentiment. The function returns a value ' \\\n",
    "          'from 0.0 to 1.0, where 0.0 means the sentiment is very negative ' \\\n",
    "          'and 1.0 means it is very positive.'\n",
    "\n",
    "messages = [{ 'role': 'user', 'content' : content }]\n",
    "\n",
    "response = openai.ChatCompletion.create(\n",
    "    model='gpt-3.5-turbo',\n",
    "    messages=messages,\n",
    "    temperature=0.0,\n",
    "    max_tokens=512\n",
    ")\n",
    "\n",
    "print(response.choices[0].message.content)"
   ]
  },
  {
   "cell_type": "markdown",
   "metadata": {},
   "source": [
    "Use ChatGPT to generate a non-trivial SQL query:"
   ]
  },
  {
   "cell_type": "code",
   "execution_count": 10,
   "metadata": {},
   "outputs": [
    {
     "name": "stdout",
     "output_type": "stream",
     "text": [
      "\n",
      "\n",
      "SELECT d.name AS department_name\n",
      "FROM Department d\n",
      "INNER JOIN Employee e ON d.id = e.department_id \n",
      "INNER JOIN Salary_Payments sp ON e.id = sp.employee_id\n",
      "WHERE sp.date >= DATEADD(month, -3, GETDATE()) \n",
      "GROUP BY d.name\n",
      "HAVING COUNT(*) >= 10;\n"
     ]
    }
   ],
   "source": [
    "content = 'Generate a SQL query to list the names of all departments ' \\\n",
    "          'that have employed 10 or more people in the last 3 months. ' \\\n",
    "          'The query targets a table with the following schema:\\n' \\\n",
    "          'Employee(id, name, department_id)\\n' \\\n",
    "          'Department(id, name, address)\\n' \\\n",
    "          'Salary_Payments(id, employee_id, amount, date)\\n'\n",
    "\n",
    "messages = [{ 'role': 'user', 'content' : content }]\n",
    "\n",
    "response = openai.ChatCompletion.create(\n",
    "    model='gpt-3.5-turbo',\n",
    "    messages=messages,\n",
    "    max_tokens=512\n",
    ")\n",
    "\n",
    "print(response.choices[0].message.content)"
   ]
  },
  {
   "cell_type": "markdown",
   "metadata": {},
   "source": [
    "One of the more remarkable aspects of ChatGPT is its ability to find bugs in code. Just after my book went to the printer in 2022, I discovered a bug in the latest version of Scikit-learn that prevented some of my samples from working properly. I spent a couple of hours in the source code and found the bug. I filed a [bug report](https://github.com/scikit-learn/scikit-learn/issues/24942) and the Scikit team confirmed the bug and promised to fix it in the next version. I had to scramble to rewrite some of the code samples in my book to work around the bug and get the changes to the printer before the presses started rolling. Let's see if ChatGPT can find the bug:"
   ]
  },
  {
   "cell_type": "code",
   "execution_count": 11,
   "metadata": {},
   "outputs": [
    {
     "name": "stdout",
     "output_type": "stream",
     "text": [
      "\n",
      "\n",
      "The bug is that the cropped image is not being saved back to the `pil_img` variable. Therefore, the function is returning the original image instead of the cropped one. To fix this, we need to assign the cropped image back to `pil_img`:\n",
      "\n",
      "```\n",
      "pil_img = pil_img.crop(\n",
      "    (w_slice.start, h_slice.start, w_slice.stop, h_slice.stop)\n",
      ")\n",
      "```\n",
      "\n",
      "should be changed to:\n",
      "\n",
      "```\n",
      "pil_img = pil_img.crop(\n",
      "    (w_slice.start, h_slice.start, w_slice.stop, h_slice.stop)\n",
      ")\n",
      "```\n",
      "\n",
      "This will ensure that the cropped image is used for resizing and conversion to numpy array.\n"
     ]
    }
   ],
   "source": [
    "with open('Data/lfw.py', 'r') as input_file:\n",
    "    lines = input_file.read()\n",
    "    content = 'Find the bug that prevents the _load_imgs function from properly ' \\\n",
    "              'cropping images as specified by the slice_ parameter:\\n' + lines\n",
    "\n",
    "    messages = [{ 'role': 'user', 'content' : content }]\n",
    "\n",
    "    response = openai.ChatCompletion.create(\n",
    "        model='gpt-3.5-turbo',\n",
    "        messages=messages,\n",
    "        temperature=0.0,\n",
    "        max_tokens=2048\n",
    "    )\n",
    "\n",
    "    print(response.choices[0].message.content)"
   ]
  },
  {
   "cell_type": "markdown",
   "metadata": {},
   "source": [
    "Finally, let's see if ChatGPT can generate a Flask Web site that supports user interaction:"
   ]
  },
  {
   "cell_type": "code",
   "execution_count": 12,
   "metadata": {},
   "outputs": [
    {
     "name": "stdout",
     "output_type": "stream",
     "text": [
      "\n",
      "\n",
      "As an AI language model, I cannot generate a Flask Web site. However, I can provide you with the code that you can use to create a Flask Web site that meets your requirements.\n",
      "\n",
      "Here is the code:\n",
      "\n",
      "```\n",
      "from flask import Flask, render_template, request\n",
      "from textblob import TextBlob\n",
      "\n",
      "app = Flask(__name__)\n",
      "\n",
      "@app.route('/')\n",
      "def home():\n",
      "    return render_template('home.html')\n",
      "\n",
      "@app.route('/analyze', methods=['POST'])\n",
      "def analyze():\n",
      "    comment = request.form['comment']\n",
      "    blob = TextBlob(comment)\n",
      "    sentiment_score = round(blob.sentiment.polarity, 2)\n",
      "    return render_template('result.html', score=sentiment_score)\n",
      "\n",
      "if __name__ == '__main__':\n",
      "    app.run(debug=True)\n",
      "```\n",
      "\n",
      "This code creates a Flask Web site with two routes: `/` and `/analyze`. The home page (`/`) contains a text field in which the user types a comment and a button that, when clicked, sends the comment to the `/analyze` route for sentiment analysis.\n",
      "\n",
      "The sentiment analysis is performed using the TextBlob library, which calculates the polarity of the comment (a score from -1.0 to 1.0 indicating how negative or positive the comment is). The score is then rounded to two decimal places and displayed on the result page (`/result`).\n",
      "\n",
      "To create the home page (`home.html`) and the result page (`result.html`), you can use HTML and Jinja2 templates. Here is an example of what the templates could look like:\n",
      "\n",
      "`home.html`:\n",
      "\n",
      "```\n",
      "<!DOCTYPE html>\n",
      "<html>\n",
      "<head>\n",
      "    <title>Sentiment Analysis</title>\n",
      "</head>\n",
      "<body>\n",
      "    <h1>Sentiment Analysis</h1>\n",
      "    <<form action=\"/analyze\" method=\"POST\">\n",
      "        <label for=\"comment\">Enter your comment:</label><br>\n",
      "        <input type=\"text\" id=\"comment\" name=\"comment\"><br>\n",
      "        <input type=\"submit\" value=\"Analyze\">\n",
      "    </form>\n",
      "</body>\n",
      "</html>\n",
      "```\n",
      "\n",
      "`result.html`:\n",
      "\n",
      "```\n",
      "<!DOCTYPE html>\n",
      "<html>\n",
      "<head>\n",
      "    <title>Sentiment Analysis Result</title>\n",
      "</head>\n",
      "<body>\n",
      "    <h1>Sentiment Analysis Result</h1>\n",
      "    <p>Your comment has a sentiment score of {{ score }}.</p>\n",
      "</body>\n",
      "</html>\n",
      "```\n",
      "\n",
      "You can save these templates in a `templates` folder in your Flask project directory.\n",
      "\n",
      "Once you have created the Flask Web site and templates, you can run the Flask app using the command `python app.py` (assuming your Flask app file is named `app.py`). The app will run on `http://localhost:5000/`.\n"
     ]
    }
   ],
   "source": [
    "content = 'Generate a Flask Web site whose home page contains a text field ' \\\n",
    "          'in which the user types a comment. Include a button that, when ' \\\n",
    "          'clicked, analyzes the comment for sentiment and displays a score ' \\\n",
    "          'from 0.0 to 1.0 indicating how positive the comment is.'\n",
    "\n",
    "messages = [{ 'role': 'user', 'content' : content }]\n",
    "\n",
    "response = openai.ChatCompletion.create(\n",
    "    model='gpt-3.5-turbo',\n",
    "    messages=messages,\n",
    "    temperature=0.0,\n",
    "    max_tokens=2048\n",
    ")\n",
    "\n",
    "print(response.choices[0].message.content)"
   ]
  },
  {
   "cell_type": "markdown",
   "metadata": {},
   "source": [
    "Does the code work? If you're not sure, follow ChatGPT's instructions and see!"
   ]
  }
 ],
 "metadata": {
  "kernelspec": {
   "display_name": "Python 3",
   "language": "python",
   "name": "python3"
  },
  "language_info": {
   "codemirror_mode": {
    "name": "ipython",
    "version": 3
   },
   "file_extension": ".py",
   "mimetype": "text/x-python",
   "name": "python",
   "nbconvert_exporter": "python",
   "pygments_lexer": "ipython3",
   "version": "3.8.5"
  }
 },
 "nbformat": 4,
 "nbformat_minor": 4
}
