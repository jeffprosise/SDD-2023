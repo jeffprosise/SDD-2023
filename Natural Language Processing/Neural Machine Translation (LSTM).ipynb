{
 "cells": [
  {
   "cell_type": "markdown",
   "metadata": {},
   "source": [
    "# Neural Machine Translation (NMT)\n",
    "\n",
    "In the universe of natural language processing (NLP), text classification is a relatively simple task. At the opposite end of the difficulty spectrum lies neural machine translation (NMT), which uses deep learning to translate text from one language to another – for example, turning “Hello world” into “Salut le monde.” NMT has proven superior to the [rules-based machine translation](https://en.wikipedia.org/wiki/Rule-based_machine_translation) (RBMT) and [statistical machine translation](https://en.wikipedia.org/wiki/Statistical_machine_translation) (SMT) systems that predated the explosion of deep learning and today is the basis for virtually all state-of-the-art text-translation services. Let's use Keras and TensorFlow to build an NMT model that translates English to French."
   ]
  },
  {
   "cell_type": "markdown",
   "metadata": {},
   "source": [
    "The data file **en-fr.txt** is a subset of a [larger file](http://www.manythings.org/anki/fra-eng.zip) containing more than 190,000 phrases and their corresponding translations compiled as part of the [Tatoeba project](https://tatoeba.org/). The file is tab-delimited. Each line contains an English phrase, the equivalent French phrase, and an attribution identifying where the translation came from. We don’t need the attributions, so load the dataset into a Pandas DataFrame, remove the attribution column, and shuffle and reindex the rows."
   ]
  },
  {
   "cell_type": "code",
   "execution_count": 1,
   "metadata": {},
   "outputs": [
    {
     "data": {
      "text/html": [
       "<div>\n",
       "<style scoped>\n",
       "    .dataframe tbody tr th:only-of-type {\n",
       "        vertical-align: middle;\n",
       "    }\n",
       "\n",
       "    .dataframe tbody tr th {\n",
       "        vertical-align: top;\n",
       "    }\n",
       "\n",
       "    .dataframe thead th {\n",
       "        text-align: right;\n",
       "    }\n",
       "</style>\n",
       "<table border=\"1\" class=\"dataframe\">\n",
       "  <thead>\n",
       "    <tr style=\"text-align: right;\">\n",
       "      <th></th>\n",
       "      <th>en</th>\n",
       "      <th>fr</th>\n",
       "    </tr>\n",
       "  </thead>\n",
       "  <tbody>\n",
       "    <tr>\n",
       "      <th>0</th>\n",
       "      <td>You're very clever.</td>\n",
       "      <td>Vous êtes fort ingénieuse.</td>\n",
       "    </tr>\n",
       "    <tr>\n",
       "      <th>1</th>\n",
       "      <td>Are there kids?</td>\n",
       "      <td>Y a-t-il des enfants ?</td>\n",
       "    </tr>\n",
       "    <tr>\n",
       "      <th>2</th>\n",
       "      <td>Come in.</td>\n",
       "      <td>Entrez !</td>\n",
       "    </tr>\n",
       "    <tr>\n",
       "      <th>3</th>\n",
       "      <td>Where's Boston?</td>\n",
       "      <td>Où est Boston ?</td>\n",
       "    </tr>\n",
       "    <tr>\n",
       "      <th>4</th>\n",
       "      <td>You see what I mean?</td>\n",
       "      <td>Vous voyez ce que je veux dire ?</td>\n",
       "    </tr>\n",
       "  </tbody>\n",
       "</table>\n",
       "</div>"
      ],
      "text/plain": [
       "                     en                                fr\n",
       "0   You're very clever.        Vous êtes fort ingénieuse.\n",
       "1       Are there kids?            Y a-t-il des enfants ?\n",
       "2              Come in.                          Entrez !\n",
       "3       Where's Boston?                   Où est Boston ?\n",
       "4  You see what I mean?  Vous voyez ce que je veux dire ?"
      ]
     },
     "execution_count": 1,
     "metadata": {},
     "output_type": "execute_result"
    }
   ],
   "source": [
    "import pandas as pd\n",
    "\n",
    "df = pd.read_csv('Data/en-fr.txt', names=['en', 'fr', 'attr'], usecols=['en', 'fr'], sep='\\t')\n",
    "df = df.sample(frac=1, random_state=42)\n",
    "df = df.reset_index(drop=True)\n",
    "df.head()"
   ]
  },
  {
   "cell_type": "markdown",
   "metadata": {},
   "source": [
    "Clean the text by removing punctuation symbols and numbers, converting characters to lowercase, and replacing Unicode characters with their ASCII equivalents:"
   ]
  },
  {
   "cell_type": "code",
   "execution_count": 2,
   "metadata": {},
   "outputs": [
    {
     "data": {
      "text/html": [
       "<div>\n",
       "<style scoped>\n",
       "    .dataframe tbody tr th:only-of-type {\n",
       "        vertical-align: middle;\n",
       "    }\n",
       "\n",
       "    .dataframe tbody tr th {\n",
       "        vertical-align: top;\n",
       "    }\n",
       "\n",
       "    .dataframe thead th {\n",
       "        text-align: right;\n",
       "    }\n",
       "</style>\n",
       "<table border=\"1\" class=\"dataframe\">\n",
       "  <thead>\n",
       "    <tr style=\"text-align: right;\">\n",
       "      <th></th>\n",
       "      <th>en</th>\n",
       "      <th>fr</th>\n",
       "    </tr>\n",
       "  </thead>\n",
       "  <tbody>\n",
       "    <tr>\n",
       "      <th>0</th>\n",
       "      <td>youre very clever</td>\n",
       "      <td>vous etes fort ingenieuse</td>\n",
       "    </tr>\n",
       "    <tr>\n",
       "      <th>1</th>\n",
       "      <td>are there kids</td>\n",
       "      <td>y atil des enfants</td>\n",
       "    </tr>\n",
       "    <tr>\n",
       "      <th>2</th>\n",
       "      <td>come in</td>\n",
       "      <td>entrez</td>\n",
       "    </tr>\n",
       "    <tr>\n",
       "      <th>3</th>\n",
       "      <td>wheres boston</td>\n",
       "      <td>ou est boston</td>\n",
       "    </tr>\n",
       "    <tr>\n",
       "      <th>4</th>\n",
       "      <td>you see what i mean</td>\n",
       "      <td>vous voyez ce que je veux dire</td>\n",
       "    </tr>\n",
       "  </tbody>\n",
       "</table>\n",
       "</div>"
      ],
      "text/plain": [
       "                    en                               fr\n",
       "0    youre very clever        vous etes fort ingenieuse\n",
       "1       are there kids              y atil des enfants \n",
       "2              come in                           entrez\n",
       "3        wheres boston                    ou est boston\n",
       "4  you see what i mean  vous voyez ce que je veux dire "
      ]
     },
     "execution_count": 2,
     "metadata": {},
     "output_type": "execute_result"
    }
   ],
   "source": [
    "import re\n",
    "from unicodedata import normalize\n",
    "\n",
    "def clean_text(text):\n",
    "    text = normalize('NFD', text.lower())\n",
    "    text = re.sub('[^A-Za-z ]+', '', text)\n",
    "    return text\n",
    "\n",
    "df['en'] = df['en'].apply(lambda row: clean_text(row))\n",
    "df['fr'] = df['fr'].apply(lambda row: clean_text(row))\n",
    "df.head()"
   ]
  },
  {
   "cell_type": "markdown",
   "metadata": {},
   "source": [
    "The next step is to scan the phrases and determine the maximum length of the English phrases and then of the French phrases. These lengths will determine the lengths of the sequences input to and output from the model:"
   ]
  },
  {
   "cell_type": "code",
   "execution_count": 3,
   "metadata": {},
   "outputs": [
    {
     "name": "stdout",
     "output_type": "stream",
     "text": [
      "Max phrase length (English): 7\n",
      "Max phrase length (French): 14\n"
     ]
    }
   ],
   "source": [
    "en = df['en']\n",
    "fr = df['fr']\n",
    "\n",
    "en_max_len = max(len(line.split()) for line in en)\n",
    "fr_max_len = max(len(line.split()) for line in fr)\n",
    "\n",
    "print(f'Max phrase length (English): {en_max_len}')\n",
    "print(f'Max phrase length (French): {fr_max_len}')"
   ]
  },
  {
   "cell_type": "markdown",
   "metadata": {},
   "source": [
    "Now fit one `Tokenizer` to the English phrases and another `Tokenizer` to their French equivalents, and generate padded sequences for all the phrases:"
   ]
  },
  {
   "cell_type": "code",
   "execution_count": 4,
   "metadata": {},
   "outputs": [],
   "source": [
    "from tensorflow.keras.preprocessing.text import Tokenizer\n",
    "from tensorflow.keras.preprocessing.sequence import pad_sequences\n",
    "\n",
    "en_tokenizer = Tokenizer()\n",
    "en_tokenizer.fit_on_texts(en)\n",
    "en_sequences = en_tokenizer.texts_to_sequences(en)\n",
    "en_x = pad_sequences(en_sequences, maxlen=en_max_len, padding='post')\n",
    "\n",
    "fr_tokenizer = Tokenizer()\n",
    "fr_tokenizer.fit_on_texts(fr)\n",
    "fr_sequences = fr_tokenizer.texts_to_sequences(fr)\n",
    "fr_y = pad_sequences(fr_sequences, maxlen=fr_max_len, padding='post')"
   ]
  },
  {
   "cell_type": "markdown",
   "metadata": {},
   "source": [
    "Compute the vocabulary sizes from the `Tokenizer` instances:"
   ]
  },
  {
   "cell_type": "code",
   "execution_count": 5,
   "metadata": {},
   "outputs": [
    {
     "name": "stdout",
     "output_type": "stream",
     "text": [
      "Vocabulary size (English): 6033\n",
      "Vocabulary size (French): 12195\n"
     ]
    }
   ],
   "source": [
    "en_vocab_size = len(en_tokenizer.word_index) + 1\n",
    "fr_vocab_size = len(fr_tokenizer.word_index) + 1\n",
    "\n",
    "print(f'Vocabulary size (English): {en_vocab_size}')\n",
    "print(f'Vocabulary size (French): {fr_vocab_size}')"
   ]
  },
  {
   "cell_type": "markdown",
   "metadata": {},
   "source": [
    "## Build and train a model\n",
    "\n",
    "Now it's time to define a model. We'll start with an `Embedding` layer followed by an `LSTM` layer that encodes English phrases input to the model. A second `LSTM` layer decodes those phrases into their French equivalents. In between is a `RepeatVector` layer whose purpose is to reshape the output from the first `LSTM` layer for input to the second. The final layer is a softmax classification layer that outputs probabilities for each word in the French vocabulary. The `TimeDistributed` wrapper ensures that the model outputs a set of probabilities for each token (word) in the output rather than just one set for the entire sequence."
   ]
  },
  {
   "cell_type": "code",
   "execution_count": 6,
   "metadata": {},
   "outputs": [
    {
     "name": "stdout",
     "output_type": "stream",
     "text": [
      "Model: \"sequential\"\n",
      "____________________________________________________________________________________________________\n",
      " Layer (type)                                Output Shape                            Param #        \n",
      "====================================================================================================\n",
      " embedding (Embedding)                       (None, 7, 256)                          1544448        \n",
      "                                                                                                    \n",
      " lstm (LSTM)                                 (None, 256)                             525312         \n",
      "                                                                                                    \n",
      " repeat_vector (RepeatVector)                (None, 14, 256)                         0              \n",
      "                                                                                                    \n",
      " lstm_1 (LSTM)                               (None, 14, 256)                         525312         \n",
      "                                                                                                    \n",
      " dropout (Dropout)                           (None, 14, 256)                         0              \n",
      "                                                                                                    \n",
      " time_distributed (TimeDistributed)          (None, 14, 12195)                       3134115        \n",
      "                                                                                                    \n",
      "====================================================================================================\n",
      "Total params: 5,729,187\n",
      "Trainable params: 5,729,187\n",
      "Non-trainable params: 0\n",
      "____________________________________________________________________________________________________\n"
     ]
    }
   ],
   "source": [
    "import numpy as np\n",
    "import tensorflow as tf\n",
    "from tensorflow.keras.models import Sequential\n",
    "from tensorflow.keras.layers import Dense, Embedding, LSTM, RepeatVector, TimeDistributed, Dropout\n",
    "\n",
    "np.random.seed(42)\n",
    "tf.random.set_seed(42)\n",
    "\n",
    "model = Sequential()\n",
    "model.add(Embedding(en_vocab_size, 256, input_length=en_max_len, mask_zero=True))\n",
    "model.add(LSTM(256))\n",
    "model.add(RepeatVector(fr_max_len))\n",
    "model.add(LSTM(256, return_sequences=True))\n",
    "model.add(Dropout(0.4))\n",
    "model.add(TimeDistributed(Dense(fr_vocab_size, activation='softmax')))\n",
    "model.compile(loss='sparse_categorical_crossentropy', optimizer='adam', metrics=['accuracy'])\n",
    "model.summary(line_length=100)"
   ]
  },
  {
   "cell_type": "markdown",
   "metadata": {},
   "source": [
    "Train the model, and use an `EarlyStopping` callback to end training if the validation accuracy fails to improve for three consecutive epochs:"
   ]
  },
  {
   "cell_type": "code",
   "execution_count": 7,
   "metadata": {},
   "outputs": [
    {
     "name": "stdout",
     "output_type": "stream",
     "text": [
      "Epoch 1/50\n",
      "800/800 [==============================] - 134s 164ms/step - loss: 2.1994 - accuracy: 0.7258 - val_loss: 1.8796 - val_accuracy: 0.7378\n",
      "Epoch 2/50\n",
      "800/800 [==============================] - 137s 171ms/step - loss: 1.8238 - accuracy: 0.7436 - val_loss: 1.7514 - val_accuracy: 0.7520\n",
      "Epoch 3/50\n",
      "800/800 [==============================] - 135s 169ms/step - loss: 1.6835 - accuracy: 0.7583 - val_loss: 1.6041 - val_accuracy: 0.7728\n",
      "Epoch 4/50\n",
      "800/800 [==============================] - 135s 168ms/step - loss: 1.5247 - accuracy: 0.7764 - val_loss: 1.4834 - val_accuracy: 0.7850\n",
      "Epoch 5/50\n",
      "800/800 [==============================] - 134s 168ms/step - loss: 1.3972 - accuracy: 0.7872 - val_loss: 1.3885 - val_accuracy: 0.7938\n",
      "Epoch 6/50\n",
      "800/800 [==============================] - 137s 171ms/step - loss: 1.2890 - accuracy: 0.7951 - val_loss: 1.3138 - val_accuracy: 0.8002\n",
      "Epoch 7/50\n",
      "800/800 [==============================] - 136s 170ms/step - loss: 1.1905 - accuracy: 0.8017 - val_loss: 1.2486 - val_accuracy: 0.8053\n",
      "Epoch 8/50\n",
      "800/800 [==============================] - 139s 173ms/step - loss: 1.1001 - accuracy: 0.8076 - val_loss: 1.1928 - val_accuracy: 0.8080\n",
      "Epoch 9/50\n",
      "800/800 [==============================] - 145s 181ms/step - loss: 1.0201 - accuracy: 0.8128 - val_loss: 1.1492 - val_accuracy: 0.8117\n",
      "Epoch 10/50\n",
      "800/800 [==============================] - 146s 182ms/step - loss: 0.9446 - accuracy: 0.8177 - val_loss: 1.1087 - val_accuracy: 0.8159\n",
      "Epoch 11/50\n",
      "800/800 [==============================] - 153s 191ms/step - loss: 0.8779 - accuracy: 0.8237 - val_loss: 1.0760 - val_accuracy: 0.8198\n",
      "Epoch 12/50\n",
      "800/800 [==============================] - 185s 231ms/step - loss: 0.8181 - accuracy: 0.8289 - val_loss: 1.0516 - val_accuracy: 0.8218\n",
      "Epoch 13/50\n",
      "800/800 [==============================] - 189s 236ms/step - loss: 0.7636 - accuracy: 0.8340 - val_loss: 1.0257 - val_accuracy: 0.8247\n",
      "Epoch 14/50\n",
      "800/800 [==============================] - 182s 227ms/step - loss: 0.7133 - accuracy: 0.8399 - val_loss: 1.0078 - val_accuracy: 0.8272\n",
      "Epoch 15/50\n",
      "800/800 [==============================] - 176s 220ms/step - loss: 0.6725 - accuracy: 0.8451 - val_loss: 1.0002 - val_accuracy: 0.8292\n",
      "Epoch 16/50\n",
      "800/800 [==============================] - 177s 221ms/step - loss: 0.6337 - accuracy: 0.8500 - val_loss: 0.9895 - val_accuracy: 0.8307\n",
      "Epoch 17/50\n",
      "800/800 [==============================] - 180s 225ms/step - loss: 0.6023 - accuracy: 0.8547 - val_loss: 0.9769 - val_accuracy: 0.8330\n",
      "Epoch 18/50\n",
      "800/800 [==============================] - 179s 224ms/step - loss: 0.5711 - accuracy: 0.8597 - val_loss: 0.9712 - val_accuracy: 0.8329\n",
      "Epoch 19/50\n",
      "800/800 [==============================] - 150s 188ms/step - loss: 0.5453 - accuracy: 0.8639 - val_loss: 0.9658 - val_accuracy: 0.8345\n",
      "Epoch 20/50\n",
      "800/800 [==============================] - 180s 225ms/step - loss: 0.5234 - accuracy: 0.8670 - val_loss: 0.9629 - val_accuracy: 0.8354\n",
      "Epoch 21/50\n",
      "800/800 [==============================] - 173s 217ms/step - loss: 0.5013 - accuracy: 0.8710 - val_loss: 0.9572 - val_accuracy: 0.8364\n",
      "Epoch 22/50\n",
      "800/800 [==============================] - 191s 239ms/step - loss: 0.4836 - accuracy: 0.8738 - val_loss: 0.9584 - val_accuracy: 0.8364\n",
      "Epoch 23/50\n",
      "800/800 [==============================] - 188s 236ms/step - loss: 0.4656 - accuracy: 0.8770 - val_loss: 0.9624 - val_accuracy: 0.8362\n",
      "Epoch 24/50\n",
      "800/800 [==============================] - 187s 233ms/step - loss: 0.4500 - accuracy: 0.8794 - val_loss: 0.9597 - val_accuracy: 0.8377\n",
      "Epoch 25/50\n",
      "800/800 [==============================] - 191s 239ms/step - loss: 0.4371 - accuracy: 0.8815 - val_loss: 0.9643 - val_accuracy: 0.8377\n",
      "Epoch 26/50\n",
      "800/800 [==============================] - 187s 234ms/step - loss: 0.4227 - accuracy: 0.8846 - val_loss: 0.9618 - val_accuracy: 0.8373\n",
      "Epoch 27/50\n",
      "800/800 [==============================] - 156s 196ms/step - loss: 0.4105 - accuracy: 0.8868 - val_loss: 0.9624 - val_accuracy: 0.8378\n",
      "Epoch 28/50\n",
      "800/800 [==============================] - 179s 224ms/step - loss: 0.3990 - accuracy: 0.8889 - val_loss: 0.9663 - val_accuracy: 0.8389\n",
      "Epoch 29/50\n",
      "800/800 [==============================] - 187s 233ms/step - loss: 0.3893 - accuracy: 0.8906 - val_loss: 0.9646 - val_accuracy: 0.8383\n",
      "Epoch 30/50\n",
      "800/800 [==============================] - 155s 193ms/step - loss: 0.3793 - accuracy: 0.8926 - val_loss: 0.9710 - val_accuracy: 0.8391\n",
      "Epoch 31/50\n",
      "800/800 [==============================] - 195s 244ms/step - loss: 0.3706 - accuracy: 0.8942 - val_loss: 0.9778 - val_accuracy: 0.8399\n",
      "Epoch 32/50\n",
      "800/800 [==============================] - 200s 250ms/step - loss: 0.3629 - accuracy: 0.8957 - val_loss: 0.9732 - val_accuracy: 0.8387\n",
      "Epoch 33/50\n",
      "800/800 [==============================] - 201s 251ms/step - loss: 0.3545 - accuracy: 0.8970 - val_loss: 0.9732 - val_accuracy: 0.8395\n",
      "Epoch 34/50\n",
      "800/800 [==============================] - 188s 235ms/step - loss: 0.3473 - accuracy: 0.8987 - val_loss: 0.9863 - val_accuracy: 0.8397\n"
     ]
    }
   ],
   "source": [
    "from tensorflow.keras.callbacks import EarlyStopping\n",
    "\n",
    "callback = EarlyStopping(monitor='val_accuracy', patience=3, restore_best_weights=True)\n",
    "hist = model.fit(en_x, fr_y, epochs=50, batch_size=50, validation_split=0.2, callbacks=[callback])"
   ]
  },
  {
   "cell_type": "markdown",
   "metadata": {},
   "source": [
    "Plot the per-epoch training and validation accuracy:"
   ]
  },
  {
   "cell_type": "code",
   "execution_count": 8,
   "metadata": {},
   "outputs": [
    {
     "data": {
      "text/plain": [
       "[]"
      ]
     },
     "execution_count": 8,
     "metadata": {},
     "output_type": "execute_result"
    },
    {
     "data": {
      "image/png": "[encoded data removed]",
      "text/plain": [
       "<Figure size 432x288 with 1 Axes>"
      ]
     },
     "metadata": {},
     "output_type": "display_data"
    }
   ],
   "source": [
    "import seaborn as sns\n",
    "import matplotlib.pyplot as plt\n",
    "%matplotlib inline\n",
    "sns.set()\n",
    "\n",
    "acc = hist.history['accuracy']\n",
    "val = hist.history['val_accuracy']\n",
    "epochs = range(1, len(acc) + 1)\n",
    "\n",
    "plt.plot(epochs, acc, '-', label='Training accuracy')\n",
    "plt.plot(epochs, val, ':', label='Validation accuracy')\n",
    "plt.title('Training and Validation Accuracy')\n",
    "plt.xlabel('Epoch')\n",
    "plt.ylabel('Accuracy')\n",
    "plt.legend(loc='lower right')\n",
    "plt.plot()"
   ]
  },
  {
   "cell_type": "markdown",
   "metadata": {},
   "source": [
    "## Use the model to translate text\n",
    "\n",
    "Can the model really translate English to French? Use a subset of the phrases reserved to validate the model to make predictions and see for yourself. Note the use of the French `Tokenizer`’s `sequences_to_texts` method to convert sequences representing French phrases predicted by the model into words:"
   ]
  },
  {
   "cell_type": "code",
   "execution_count": 9,
   "metadata": {},
   "outputs": [
    {
     "name": "stdout",
     "output_type": "stream",
     "text": [
      "its fall now => cest maintenant maintenant\n",
      "im losing => je suis en train\n",
      "it was quite funny => cetait fut amusant amusant\n",
      "thats not unusual => ce nest pas inhabituel\n",
      "i think ill do that => je pense que je le\n",
      "tom looks different => tom a lair different\n",
      "its worth a try => ca vaut le coup\n",
      "fortune smiled on him => la la lui a souri\n",
      "lets hit the road => taillons la\n",
      "i love winning => jadore gagner\n"
     ]
    }
   ],
   "source": [
    "def translate_text(text, model, en_tokenizer, fr_tokenizer, en_max_len):\n",
    "    sequence = en_tokenizer.texts_to_sequences([text])\n",
    "    padded_sequence = pad_sequences(sequence, maxlen=en_max_len, padding='post')\n",
    "    prediction = model.predict(padded_sequence, verbose=0)[0]\n",
    "    indexes = [np.argmax(idx) for idx in prediction]\n",
    "    return fr_tokenizer.sequences_to_texts([indexes])[0]\n",
    "\n",
    "texts = en[40000:40010].values\n",
    "\n",
    "for text in texts:\n",
    "    translated = translate_text(text, model, en_tokenizer, fr_tokenizer, en_max_len)\n",
    "    print(f'{text} => {translated}')"
   ]
  },
  {
   "cell_type": "markdown",
   "metadata": {},
   "source": [
    "Finally, see how the model translates \"Hello world\" into French:"
   ]
  },
  {
   "cell_type": "code",
   "execution_count": 10,
   "metadata": {},
   "outputs": [
    {
     "data": {
      "text/plain": [
       "'salut le monde'"
      ]
     },
     "execution_count": 10,
     "metadata": {},
     "output_type": "execute_result"
    }
   ],
   "source": [
    "translate_text('Hello world', model, en_tokenizer, fr_tokenizer, en_max_len)"
   ]
  },
  {
   "cell_type": "markdown",
   "metadata": {},
   "source": [
    "The model isn't perfect, but it's not bad, either. The vocabularies that you trained with are relatively small, but if you expanded the vocabularies and deepened the model – for example, if you included two `LSTM` layers for encoding and two for decoding – you'd have the makings of a decent NMT model."
   ]
  }
 ],
 "metadata": {
  "kernelspec": {
   "display_name": "Python 3",
   "language": "python",
   "name": "python3"
  },
  "language_info": {
   "codemirror_mode": {
    "name": "ipython",
    "version": 3
   },
   "file_extension": ".py",
   "mimetype": "text/x-python",
   "name": "python",
   "nbconvert_exporter": "python",
   "pygments_lexer": "ipython3",
   "version": "3.8.5"
  }
 },
 "nbformat": 4,
 "nbformat_minor": 4
}
